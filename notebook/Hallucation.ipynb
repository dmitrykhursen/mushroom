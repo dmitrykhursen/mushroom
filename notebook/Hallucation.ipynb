{
 "cells": [
  {
   "cell_type": "code",
   "execution_count": 1,
   "id": "84937587",
   "metadata": {},
   "outputs": [
    {
     "name": "stdout",
     "output_type": "stream",
     "text": [
      "time: 12.7 ms (started: 2025-05-10 17:34:35 +02:00)\n"
     ]
    }
   ],
   "source": [
    "%load_ext autotime\n",
    "%load_ext autoreload\n",
    "%autoreload 2"
   ]
  },
  {
   "cell_type": "code",
   "execution_count": 2,
   "id": "f625e3f2",
   "metadata": {},
   "outputs": [
    {
     "name": "stdout",
     "output_type": "stream",
     "text": [
      "time: 1.08 s (started: 2025-05-10 17:34:35 +02:00)\n"
     ]
    }
   ],
   "source": [
    "!export SSL_CERT_FILE=/etc/ssl/certs/ca-certificates.crt"
   ]
  },
  {
   "cell_type": "code",
   "execution_count": 3,
   "id": "3e8009bb",
   "metadata": {},
   "outputs": [
    {
     "name": "stdout",
     "output_type": "stream",
     "text": [
      "time: 15.8 ms (started: 2025-05-10 17:34:36 +02:00)\n"
     ]
    }
   ],
   "source": [
    "import os\n",
    "os.environ[\"SSL_CERT_FILE\"] = \"/etc/ssl/certs/ca-certificates.crt\""
   ]
  },
  {
   "cell_type": "code",
   "execution_count": 143,
   "id": "8b4e5625",
   "metadata": {},
   "outputs": [
    {
     "name": "stdout",
     "output_type": "stream",
     "text": [
      "time: 3.55 s (started: 2025-05-10 22:39:25 +02:00)\n"
     ]
    }
   ],
   "source": [
    "import pandas as pd\n",
    "from getpass import getpass\n",
    "import re  \n",
    "from datasets import load_dataset\n",
    "import json\n",
    "import zipfile\n",
    "from recommendation_research_data.clanky_entities.entity_db import (\n",
    "    get_entities as get_entities_clanky)\n",
    "\n",
    "from recommendation_research_llm_handler.llm_client import LLMHandler\n",
    "import getpass\n",
    "from recommendation_content_classifier.utils import (\n",
    "    plot_confusion_matrix)\n",
    "\n",
    "pd.set_option(\"display.max_columns\", 500)\n",
    "pd.set_option(\"display.max_rows\", 1000)\n",
    "pd.set_option(\"max_colwidth\", 100)"
   ]
  },
  {
   "cell_type": "code",
   "execution_count": 5,
   "id": "7d043031",
   "metadata": {},
   "outputs": [
    {
     "name": "stdout",
     "output_type": "stream",
     "text": [
      "time: 27.1 ms (started: 2025-05-10 17:34:38 +02:00)\n"
     ]
    }
   ],
   "source": [
    "'''\n",
    "Dataset 1: potsawee/wiki_bio_gpt3_hallucination: accurate, minor_inaccurate, major_inaccurate\n",
    "Dataset 2: fever\n",
    "'''\n",
    "DATASET =  2"
   ]
  },
  {
   "cell_type": "markdown",
   "id": "f4a7f196",
   "metadata": {},
   "source": [
    "## Load data"
   ]
  },
  {
   "cell_type": "code",
   "execution_count": null,
   "id": "b229181b",
   "metadata": {},
   "outputs": [
    {
     "name": "stdout",
     "output_type": "stream",
     "text": [
      "time: 1min 58s (started: 2025-05-10 21:13:37 +02:00)\n"
     ]
    }
   ],
   "source": [
    "def add_wikipedia_text(dataset, wiki_dict):\n",
    "    def enrich(example):\n",
    "        page = example['evidence_wiki_url']\n",
    "        example['wiki_info'] = wiki_dict.get(page, None)\n",
    "        return example\n",
    "\n",
    "    return dataset.map(enrich)\n",
    "\n",
    "def filter_missing_wiki(example):\n",
    "    return example['wiki_info'] is not None\n",
    "\n",
    "\n",
    "def load_all_wiki_pages(folder_path):\n",
    "    wiki_dict = {}\n",
    "    \n",
    "    for filename in os.listdir(folder_path):\n",
    "        if filename.endswith('.jsonl'):\n",
    "            file_path = os.path.join(folder_path, filename)\n",
    "            with open(file_path, 'r', encoding='utf-8') as f:\n",
    "                for line in f:\n",
    "                    try:\n",
    "                        entry = json.loads(line)\n",
    "                        wiki_dict[entry['id']] = entry['text']\n",
    "                    except json.JSONDecodeError:\n",
    "                        continue \n",
    "\n",
    "    return wiki_dict\n",
    "\n",
    "def load_wiki_dict_from_zip(zip_path):\n",
    "    wiki_dict = {}\n",
    "    with zipfile.ZipFile(zip_path, 'r') as zipf:\n",
    "        for filename in zipf.namelist():\n",
    "            # Check that file is in the wiki-pages/ directory and ends with .jsonl\n",
    "            if filename.startswith('wiki-pages/') and filename.endswith('.jsonl'):\n",
    "                with zipf.open(filename) as f:\n",
    "                    for line in f:\n",
    "                        try:\n",
    "                            entry = json.loads(line.decode('utf-8'))\n",
    "                            wiki_dict[entry['id']] = entry['text']\n",
    "                        except json.JSONDecodeError:\n",
    "                            continue  \n",
    "    return wiki_dict"
   ]
  },
  {
   "cell_type": "code",
   "execution_count": null,
   "id": "73a28cd8",
   "metadata": {},
   "outputs": [
    {
     "name": "stdout",
     "output_type": "stream",
     "text": [
      "time: 2.28 s (started: 2025-05-10 17:46:27 +02:00)\n"
     ]
    }
   ],
   "source": [
    "if DATASET == 1:\n",
    "    df = pd.read_parquet(\"hf://datasets/potsawee/wiki_bio_gpt3_hallucination/data/evaluation-00000-of-00001-e91191b8ff41afbe.parquet\")\n",
    "    dataset = pd.DataFrame({\n",
    "    'sentence': df['gpt3_sentences'].explode(),\n",
    "    'annotation': df['annotation'].explode(),\n",
    "    'original_text': df['wiki_bio_text'].repeat(df['gpt3_sentences'].str.len())\n",
    "    }).reset_index(drop=True)\n",
    "    # dataset.annotation = dataset.annotation.map({'major_inaccurate': 0, 'minor_inaccurate': 1, 'accurate': 2})\n",
    "elif DATASET == 2:\n",
    "    dataset = load_dataset(\"fever\", \"v1.0\")\n",
    "    zip_file_path = './wiki-pages/wiki-pages.zip'\n",
    "    wiki_dict = load_wiki_dict_from_zip(zip_file_path)\n",
    "    \n",
    "    dataset_with_wiki = add_wikipedia_text(dataset['train'], wiki_dict)\n",
    "    filtered_dataset = dataset_with_wiki.filter(filter_missing_wiki)\n",
    "    train_data = pd.DataFrame(filtered_dataset)"
   ]
  },
  {
   "cell_type": "code",
   "execution_count": 154,
   "id": "32fa7842",
   "metadata": {},
   "outputs": [
    {
     "data": {
      "text/plain": [
       "label\n",
       "SUPPORTS           192405\n",
       "REFUTES             69570\n",
       "NOT ENOUGH INFO     47609\n",
       "Name: count, dtype: int64"
      ]
     },
     "execution_count": 154,
     "metadata": {},
     "output_type": "execute_result"
    },
    {
     "name": "stdout",
     "output_type": "stream",
     "text": [
      "time: 81.7 ms (started: 2025-05-10 22:42:47 +02:00)\n"
     ]
    }
   ],
   "source": [
    "train_data.label.value_counts()"
   ]
  },
  {
   "cell_type": "code",
   "execution_count": null,
   "id": "818e4982",
   "metadata": {},
   "outputs": [
    {
     "name": "stdout",
     "output_type": "stream",
     "text": [
      "time: 138 ms (started: 2025-05-10 22:27:25 +02:00)\n"
     ]
    }
   ],
   "source": [
    "# train_data = train_data[train_data['wiki_info'] != '']"
   ]
  },
  {
   "cell_type": "markdown",
   "id": "e7335fb7",
   "metadata": {},
   "source": [
    "# LLM classification"
   ]
  },
  {
   "cell_type": "code",
   "execution_count": 8,
   "id": "f695bae7",
   "metadata": {},
   "outputs": [
    {
     "name": "stdout",
     "output_type": "stream",
     "text": [
      "time: 16.3 s (started: 2025-05-10 17:34:41 +02:00)\n"
     ]
    }
   ],
   "source": [
    "sasanka_token_proxi = getpass.getpass(\"Enter token for LLM proxi:\")"
   ]
  },
  {
   "cell_type": "code",
   "execution_count": 219,
   "id": "bbeada2b",
   "metadata": {},
   "outputs": [
    {
     "name": "stdout",
     "output_type": "stream",
     "text": [
      "time: 217 ms (started: 2025-05-14 16:27:49 +02:00)\n"
     ]
    }
   ],
   "source": [
    "llm_handler = LLMHandler(api_key=sasanka_token_proxi,temperature=0, model='gpt-4.1-mini')"
   ]
  },
  {
   "cell_type": "code",
   "execution_count": 198,
   "id": "6aedaf83",
   "metadata": {},
   "outputs": [
    {
     "name": "stdout",
     "output_type": "stream",
     "text": [
      "time: 51.8 ms (started: 2025-05-10 23:47:10 +02:00)\n"
     ]
    }
   ],
   "source": [
    "async def classify_hallucination(prompt):\n",
    "    response = await llm_handler.async_response(prompt)\n",
    "    match = re.findall(r'\\b(SUPPORTS|REFUTES|NOT ENOUGH INFO)\\b', response)\n",
    "    classification = match[-1] if match else response\n",
    "    \n",
    "    return classification"
   ]
  },
  {
   "cell_type": "markdown",
   "id": "eef8b56d",
   "metadata": {},
   "source": [
    "## LLM as a judge "
   ]
  },
  {
   "cell_type": "code",
   "execution_count": 220,
   "id": "c47230ce",
   "metadata": {},
   "outputs": [
    {
     "name": "stdout",
     "output_type": "stream",
     "text": [
      "time: 75.1 ms (started: 2025-05-14 16:27:58 +02:00)\n"
     ]
    }
   ],
   "source": [
    "prompt_classify = lambda claim, wiki: f'''\n",
    "### System\n",
    "You are an impartial fact-checking classifier.\n",
    "You receive:\n",
    "- A natural-language **claim**.\n",
    "- A chunk of **Wikipedia information** that may contain supporting or contradicting evidence.\n",
    "\n",
    "Your task:\n",
    "\n",
    "1. Read the claim and the Wikipedia information carefully.  \n",
    "2. Decide which single label fits best:\n",
    "   - **SUPPORTS** - all essential aspects of the claim are directly verified by the information.  \n",
    "   - **REFUTES** - the information clearly contradicts the claim.  \n",
    "   - **NOT ENOUGH INFO** - the information is insufficient to determine support or refutation.\n",
    "3. **Output only one word** — one of the three labels above.  \n",
    "   Do **not** explain your reasoning, do **not** output anything else.\n",
    "\n",
    "### User\n",
    "Claim:\n",
    "{claim}\n",
    "\n",
    "Wikipedia_information:\n",
    "{wiki}\n",
    "\n",
    "### Assistant\n",
    "'''\n",
    "\n",
    "prompt_judge = lambda claim, wiki, pred: f\"\"\"\n",
    "### System\n",
    "You are an impartial fact-checking judge.  \n",
    "You receive:\n",
    "• A natural-language **claim**.  \n",
    "• A chunk of **Wikipedia information** that may contain supporting or contradicting evidence.  \n",
    "• A **predicted label** chosen from SUPPORTS, REFUTES, NOT ENOUGH INFO .\n",
    "\n",
    "Your task:\n",
    "\n",
    "1. Read the claim and the Wikipedia information carefully.  \n",
    "2. Determine the *correct* label:\n",
    "   • **SUPPORTS** - all essential aspects of the claim are directly verified by the information.  \n",
    "   • **REFUTES**  - the information clearly contradicts the claim.  \n",
    "   • **NOT ENOUGH INFO** - the information is insufficient to decide either way.  \n",
    "3. Compare the correct label to the *predicted* label.  \n",
    "4. **Output only one word**:  \n",
    "   • If the predicted label is correct, output that label unchanged.  \n",
    "   • Otherwise, output the correct label you determined.  \n",
    "Do **not** explain your reasoning, do **not** output anything else.\n",
    "\n",
    "### User\n",
    "Claim:\n",
    "{claim}\n",
    "\n",
    "Wikipedia_information:\n",
    "{wiki}\n",
    "\n",
    "Predicted_label:\n",
    "{pred}\n",
    "\n",
    "### Assistant\n",
    "\"\"\""
   ]
  },
  {
   "cell_type": "code",
   "execution_count": 211,
   "id": "7ce358e1",
   "metadata": {},
   "outputs": [
    {
     "data": {
      "text/plain": [
       "label\n",
       "SUPPORTS           59\n",
       "REFUTES            28\n",
       "NOT ENOUGH INFO    13\n",
       "Name: count, dtype: int64"
      ]
     },
     "execution_count": 211,
     "metadata": {},
     "output_type": "execute_result"
    },
    {
     "name": "stdout",
     "output_type": "stream",
     "text": [
      "time: 92.1 ms (started: 2025-05-14 16:22:03 +02:00)\n"
     ]
    }
   ],
   "source": [
    "sample = train_data.sample(100)\n",
    "sample.label.value_counts()"
   ]
  },
  {
   "cell_type": "code",
   "execution_count": 213,
   "id": "f5b5daff",
   "metadata": {},
   "outputs": [
    {
     "name": "stdout",
     "output_type": "stream",
     "text": [
      "time: 83.3 ms (started: 2025-05-14 16:22:13 +02:00)\n"
     ]
    }
   ],
   "source": [
    "value_to_set = sample.query('label == \"SUPPORTS\"')['wiki_info'].iloc[0]\n",
    "sample.loc[sample['label'] == \"NOT ENOUGH INFO\", 'wiki_info'] = value_to_set"
   ]
  },
  {
   "cell_type": "code",
   "execution_count": 221,
   "id": "7e1d5952",
   "metadata": {},
   "outputs": [
    {
     "name": "stdout",
     "output_type": "stream",
     "text": [
      "time: 1min 24s (started: 2025-05-14 16:28:13 +02:00)\n"
     ]
    }
   ],
   "source": [
    "for i, fow in sample.iterrows():\n",
    "    claim = fow['claim']\n",
    "    wiki = fow['wiki_info']\n",
    "    label = fow['label']\n",
    "    \n",
    "    prompt = prompt_classify(claim, wiki)\n",
    "    classification = await classify_hallucination(prompt)\n",
    "    \n",
    "    # print(f\"Classification: {classification}, Label: {label}\")\n",
    "    sample.loc[i, 'pred'] = classification"
   ]
  },
  {
   "cell_type": "code",
   "execution_count": 222,
   "id": "242fa16d",
   "metadata": {},
   "outputs": [
    {
     "name": "stdout",
     "output_type": "stream",
     "text": [
      "0.89\n"
     ]
    },
    {
     "data": {
      "image/png": "[encoded data removed]",
      "text/plain": [
       "<Figure size 640x480 with 2 Axes>"
      ]
     },
     "metadata": {},
     "output_type": "display_data"
    },
    {
     "name": "stdout",
     "output_type": "stream",
     "text": [
      "time: 234 ms (started: 2025-05-14 16:30:34 +02:00)\n"
     ]
    }
   ],
   "source": [
    "print((sample['pred'] == sample['label']).mean())\n",
    "plot_confusion_matrix(sample['label'], sample['pred'], labels=['SUPPORTS', 'REFUTES', 'NOT ENOUGH INFO'])"
   ]
  },
  {
   "cell_type": "code",
   "execution_count": 223,
   "id": "1acc68d2",
   "metadata": {},
   "outputs": [
    {
     "name": "stdout",
     "output_type": "stream",
     "text": [
      "time: 1min 16s (started: 2025-05-14 16:31:25 +02:00)\n"
     ]
    }
   ],
   "source": [
    "for i, fow in sample.iterrows():\n",
    "    claim = fow['claim']\n",
    "    wiki = fow['wiki_info']\n",
    "    label = fow['label']\n",
    "    pred = fow['pred']\n",
    "    \n",
    "    prompt = prompt_judge(claim, wiki, pred)\n",
    "    classification = await classify_hallucination(prompt)\n",
    "    \n",
    "    # print(f\"Classification: {classification}, Label: {label}\")\n",
    "    sample.loc[i, 'pred_judge'] = classification"
   ]
  },
  {
   "cell_type": "code",
   "execution_count": 224,
   "id": "788dd1c4",
   "metadata": {},
   "outputs": [
    {
     "name": "stdout",
     "output_type": "stream",
     "text": [
      "0.9\n"
     ]
    },
    {
     "data": {
      "image/png": "[encoded data removed]",
      "text/plain": [
       "<Figure size 640x480 with 2 Axes>"
      ]
     },
     "metadata": {},
     "output_type": "display_data"
    },
    {
     "name": "stdout",
     "output_type": "stream",
     "text": [
      "time: 233 ms (started: 2025-05-14 16:33:03 +02:00)\n"
     ]
    }
   ],
   "source": [
    "print((sample['pred_judge'] == sample['label']).mean())\n",
    "plot_confusion_matrix(sample['label'], sample['pred_judge'], labels=['SUPPORTS', 'REFUTES', 'NOT ENOUGH INFO'])"
   ]
  },
  {
   "cell_type": "markdown",
   "id": "5befbbf2",
   "metadata": {},
   "source": [
    "## Evidence-First Decoding"
   ]
  },
  {
   "cell_type": "code",
   "execution_count": 89,
   "id": "d05f3e19",
   "metadata": {},
   "outputs": [
    {
     "name": "stdout",
     "output_type": "stream",
     "text": [
      "time: 43.4 ms (started: 2025-05-10 21:58:16 +02:00)\n"
     ]
    }
   ],
   "source": [
    "prompt_useful_sentences = lambda wiki: f'''\n",
    "From the article below, extract 1-3 sentences that are most likely to be useful for verifying factual claims.\n",
    "\n",
    "[ARTICLE STARTS]\n",
    "{wiki}\n",
    "[ARTICLE ENDS]\n",
    "'''\n",
    "prompt_evaluate = lambda claim, sentences: f'''\n",
    "Now evaluate the following claim using sentences:\n",
    "Claim: {claim}\n",
    "Evidence:\n",
    "{sentences}\n",
    "return only the answer in the format: \"SUPPORTS / REFUTES / NOT ENOUGH INFO\"\n",
    "'''"
   ]
  },
  {
   "cell_type": "code",
   "execution_count": null,
   "id": "957852c5",
   "metadata": {},
   "outputs": [
    {
     "data": {
      "text/plain": [
       "('NOT ENOUGH INFO',\n",
       " 48632    REFUTES\n",
       " Name: label, dtype: object)"
      ]
     },
     "execution_count": 100,
     "metadata": {},
     "output_type": "execute_result"
    },
    {
     "name": "stdout",
     "output_type": "stream",
     "text": [
      "time: 1.78 s (started: 2025-05-10 22:06:31 +02:00)\n"
     ]
    }
   ],
   "source": [
    "sentences = await llm_handler.async_response(prompt_useful_sentences(sample.query(\"id == 202110\")['wiki_info']))\n",
    "await classify_hallucination(prompt_evaluate(sample.query(\"id == 202110\")['claim'], sentences)), sample.query(\"id == 202110\")['label'][0]"
   ]
  },
  {
   "cell_type": "markdown",
   "id": "6fc1637e",
   "metadata": {},
   "source": [
    "# Dense Retrieval + Re-ranking"
   ]
  },
  {
   "cell_type": "markdown",
   "id": "93c05c17",
   "metadata": {},
   "source": [
    "## Dense Retrieval"
   ]
  },
  {
   "cell_type": "code",
   "execution_count": null,
   "id": "9e0fd781",
   "metadata": {},
   "outputs": [
    {
     "name": "stdout",
     "output_type": "stream",
     "text": [
      "time: 2.74 s (started: 2025-05-11 15:41:26 +02:00)\n"
     ]
    }
   ],
   "source": [
    "# %pip install -q sentence_transformers\n",
    "from sentence_transformers import SentenceTransformer, util\n",
    "import torch\n",
    "\n",
    "dense_model = SentenceTransformer(\"distiluse-base-multilingual-cased-v1\")\n",
    "\n",
    "def dense_retrieve(claim, wiki_text, top_k=20):\n",
    "    sentences = wiki_text.split('. ')\n",
    "    claim_embedding = dense_model.encode(claim, convert_to_tensor=True)\n",
    "    sentence_embeddings = dense_model.encode(sentences, convert_to_tensor=True)\n",
    "    scores = util.cos_sim(claim_embedding, sentence_embeddings)[0]\n",
    "    top_results = torch.topk(scores, k=top_k)\n",
    "    return [sentences[i] for i in top_results[1]]\n"
   ]
  },
  {
   "cell_type": "markdown",
   "id": "900c2c09",
   "metadata": {},
   "source": [
    "## Cross-Encoder Re-ranker"
   ]
  },
  {
   "cell_type": "code",
   "execution_count": 207,
   "id": "3f2aa744",
   "metadata": {},
   "outputs": [
    {
     "data": {
      "application/vnd.jupyter.widget-view+json": {
       "model_id": "46f39c944ac3445dafe79546def1602c",
       "version_major": 2,
       "version_minor": 0
      },
      "text/plain": [
       "config.json:   0%|          | 0.00/794 [00:00<?, ?B/s]"
      ]
     },
     "metadata": {},
     "output_type": "display_data"
    },
    {
     "data": {
      "application/vnd.jupyter.widget-view+json": {
       "model_id": "37262f9749bf4ebe8515f1af78d8dc85",
       "version_major": 2,
       "version_minor": 0
      },
      "text/plain": [
       "model.safetensors:   0%|          | 0.00/90.9M [00:00<?, ?B/s]"
      ]
     },
     "metadata": {},
     "output_type": "display_data"
    },
    {
     "data": {
      "application/vnd.jupyter.widget-view+json": {
       "model_id": "e6318503d63540fdae0ed60ef5b98416",
       "version_major": 2,
       "version_minor": 0
      },
      "text/plain": [
       "tokenizer_config.json:   0%|          | 0.00/1.33k [00:00<?, ?B/s]"
      ]
     },
     "metadata": {},
     "output_type": "display_data"
    },
    {
     "data": {
      "application/vnd.jupyter.widget-view+json": {
       "model_id": "0429d15d2a76444b9812bf68bb56a4e5",
       "version_major": 2,
       "version_minor": 0
      },
      "text/plain": [
       "vocab.txt:   0%|          | 0.00/232k [00:00<?, ?B/s]"
      ]
     },
     "metadata": {},
     "output_type": "display_data"
    },
    {
     "data": {
      "application/vnd.jupyter.widget-view+json": {
       "model_id": "0920cc01d94a493c8346d685c946d1c7",
       "version_major": 2,
       "version_minor": 0
      },
      "text/plain": [
       "tokenizer.json:   0%|          | 0.00/711k [00:00<?, ?B/s]"
      ]
     },
     "metadata": {},
     "output_type": "display_data"
    },
    {
     "data": {
      "application/vnd.jupyter.widget-view+json": {
       "model_id": "57b6226cfae94595b11683cc3384683f",
       "version_major": 2,
       "version_minor": 0
      },
      "text/plain": [
       "special_tokens_map.json:   0%|          | 0.00/132 [00:00<?, ?B/s]"
      ]
     },
     "metadata": {},
     "output_type": "display_data"
    },
    {
     "name": "stdout",
     "output_type": "stream",
     "text": [
      "\n",
      "time: 7.02 s (started: 2025-05-11 15:41:10 +02:00)\n"
     ]
    }
   ],
   "source": [
    "from transformers import AutoTokenizer, AutoModelForSequenceClassification\n",
    "\n",
    "cross_encoder = AutoModelForSequenceClassification.from_pretrained(\"cross-encoder/ms-marco-MiniLM-L-6-v2\")\n",
    "tokenizer = AutoTokenizer.from_pretrained(\"cross-encoder/ms-marco-MiniLM-L-6-v2\")\n",
    "\n",
    "def rerank(claim, candidate_sentences, top_k=5):\n",
    "    inputs = tokenizer([f\"{claim} [SEP] {sent}\" for sent in candidate_sentences],\n",
    "                       return_tensors='pt', padding=True, truncation=True)\n",
    "    with torch.no_grad():\n",
    "        logits = cross_encoder(**inputs).logits\n",
    "    scores = logits.squeeze()\n",
    "    top_indices = torch.topk(scores, k=top_k).indices\n",
    "    return [candidate_sentences[i] for i in top_indices]\n"
   ]
  }
 ],
 "metadata": {
  "kernelspec": {
   "display_name": "Python 3 (ipykernel)",
   "language": "python",
   "name": "python3"
  },
  "language_info": {
   "codemirror_mode": {
    "name": "ipython",
    "version": 3
   },
   "file_extension": ".py",
   "mimetype": "text/x-python",
   "name": "python",
   "nbconvert_exporter": "python",
   "pygments_lexer": "ipython3",
   "version": "3.11.9"
  }
 },
 "nbformat": 4,
 "nbformat_minor": 5
}
