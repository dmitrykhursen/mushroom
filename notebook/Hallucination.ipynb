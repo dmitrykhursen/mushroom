{
 "cells": [
  {
   "cell_type": "code",
   "execution_count": 1,
   "id": "84937587",
   "metadata": {},
   "outputs": [
    {
     "name": "stdout",
     "output_type": "stream",
     "text": [
      "time: 12.7 ms (started: 2025-05-10 17:34:35 +02:00)\n"
     ]
    }
   ],
   "source": [
    "%load_ext autotime\n",
    "%load_ext autoreload\n",
    "%autoreload 2"
   ]
  },
  {
   "cell_type": "code",
   "execution_count": 2,
   "id": "f625e3f2",
   "metadata": {},
   "outputs": [
    {
     "name": "stdout",
     "output_type": "stream",
     "text": [
      "time: 1.08 s (started: 2025-05-10 17:34:35 +02:00)\n"
     ]
    }
   ],
   "source": [
    "!export SSL_CERT_FILE=/etc/ssl/certs/ca-certificates.crt"
   ]
  },
  {
   "cell_type": "code",
   "execution_count": 3,
   "id": "3e8009bb",
   "metadata": {},
   "outputs": [
    {
     "name": "stdout",
     "output_type": "stream",
     "text": [
      "time: 15.8 ms (started: 2025-05-10 17:34:36 +02:00)\n"
     ]
    }
   ],
   "source": [
    "import os\n",
    "os.environ[\"SSL_CERT_FILE\"] = \"/etc/ssl/certs/ca-certificates.crt\""
   ]
  },
  {
   "cell_type": "code",
   "execution_count": null,
   "id": "8b4e5625",
   "metadata": {},
   "outputs": [
    {
     "name": "stdout",
     "output_type": "stream",
     "text": [
      "time: 3.55 s (started: 2025-05-10 22:39:25 +02:00)\n"
     ]
    }
   ],
   "source": [
    "import pandas as pd\n",
    "import re  \n",
    "from datasets import load_dataset\n",
    "\n",
    "from openai import AsyncOpenAI\n",
    "\n",
    "import getpass\n",
    "from src.hallucination_classification.utils import *\n",
    "\n",
    "pd.set_option(\"display.max_columns\", 500)\n",
    "pd.set_option(\"display.max_rows\", 1000)\n",
    "pd.set_option(\"max_colwidth\", 100)"
   ]
  },
  {
   "cell_type": "code",
   "execution_count": 241,
   "id": "7d043031",
   "metadata": {},
   "outputs": [
    {
     "name": "stdout",
     "output_type": "stream",
     "text": [
      "time: 81.5 ms (started: 2025-05-15 11:42:46 +02:00)\n"
     ]
    }
   ],
   "source": [
    "'''\n",
    "Dataset 1: potsawee/wiki_bio_gpt3_hallucination: accurate, minor_inaccurate, major_inaccurate\n",
    "Dataset 2: fever\n",
    "Dataset 3: original dataset\n",
    "'''\n",
    "DATASET =  3"
   ]
  },
  {
   "cell_type": "markdown",
   "id": "f4a7f196",
   "metadata": {},
   "source": [
    "## Load data"
   ]
  },
  {
   "cell_type": "code",
   "execution_count": 267,
   "id": "73a28cd8",
   "metadata": {},
   "outputs": [
    {
     "data": {
      "text/html": [
       "<div>\n",
       "<style scoped>\n",
       "    .dataframe tbody tr th:only-of-type {\n",
       "        vertical-align: middle;\n",
       "    }\n",
       "\n",
       "    .dataframe tbody tr th {\n",
       "        vertical-align: top;\n",
       "    }\n",
       "\n",
       "    .dataframe thead th {\n",
       "        text-align: right;\n",
       "    }\n",
       "</style>\n",
       "<table border=\"1\" class=\"dataframe\">\n",
       "  <thead>\n",
       "    <tr style=\"text-align: right;\">\n",
       "      <th></th>\n",
       "      <th>fact</th>\n",
       "      <th>wiki</th>\n",
       "      <th>sentences</th>\n",
       "      <th>question</th>\n",
       "      <th>label</th>\n",
       "    </tr>\n",
       "  </thead>\n",
       "  <tbody>\n",
       "    <tr>\n",
       "      <th>0</th>\n",
       "      <td>Petra van Stoveren won a silver medal.</td>\n",
       "      <td>Petronella (\"Petra\") Grietje van Staveren (born 2 June 1966) is a former breaststroke swimmer fr...</td>\n",
       "      <td>[She also won a bronze at the 1986 world championships and a European silver in 1983 in the 4×10...</td>\n",
       "      <td>What did Petra van Staveren win a gold medal for?</td>\n",
       "      <td>INCORRECT</td>\n",
       "    </tr>\n",
       "    <tr>\n",
       "      <th>1</th>\n",
       "      <td>Petra van Stoveren won a medal in the 2008 Summer Olympics.</td>\n",
       "      <td>Petronella (\"Petra\") Grietje van Staveren (born 2 June 1966) is a former breaststroke swimmer fr...</td>\n",
       "      <td>[Petronella (\"Petra\") Grietje van Staveren (born 2 June 1966) is a former breaststroke swimmer f...</td>\n",
       "      <td>What did Petra van Staveren win a gold medal for?</td>\n",
       "      <td>INCORRECT</td>\n",
       "    </tr>\n",
       "    <tr>\n",
       "      <th>2</th>\n",
       "      <td>Petra van Stoveren won a medal in Beijing, China.</td>\n",
       "      <td>Petronella (\"Petra\") Grietje van Staveren (born 2 June 1966) is a former breaststroke swimmer fr...</td>\n",
       "      <td>[She also won a bronze at the 1986 world championships and a European silver in 1983 in the 4×10...</td>\n",
       "      <td>What did Petra van Staveren win a gold medal for?</td>\n",
       "      <td>INCORRECT</td>\n",
       "    </tr>\n",
       "    <tr>\n",
       "      <th>3</th>\n",
       "      <td>The 2008 Summer Olympics were held in Beijing.</td>\n",
       "      <td>Petronella (\"Petra\") Grietje van Staveren (born 2 June 1966) is a former breaststroke swimmer fr...</td>\n",
       "      <td>[She also won a bronze at the 1986 world championships and a European silver in 1983 in the 4×10...</td>\n",
       "      <td>What did Petra van Staveren win a gold medal for?</td>\n",
       "      <td>INCORRECT</td>\n",
       "    </tr>\n",
       "    <tr>\n",
       "      <th>4</th>\n",
       "      <td>The 2008 Summer Olympics were held in China.</td>\n",
       "      <td>Petronella (\"Petra\") Grietje van Staveren (born 2 June 1966) is a former breaststroke swimmer fr...</td>\n",
       "      <td>[She also won a bronze at the 1986 world championships and a European silver in 1983 in the 4×10...</td>\n",
       "      <td>What did Petra van Staveren win a gold medal for?</td>\n",
       "      <td>INCORRECT</td>\n",
       "    </tr>\n",
       "  </tbody>\n",
       "</table>\n",
       "</div>"
      ],
      "text/plain": [
       "                                                          fact  \\\n",
       "0                       Petra van Stoveren won a silver medal.   \n",
       "1  Petra van Stoveren won a medal in the 2008 Summer Olympics.   \n",
       "2            Petra van Stoveren won a medal in Beijing, China.   \n",
       "3               The 2008 Summer Olympics were held in Beijing.   \n",
       "4                 The 2008 Summer Olympics were held in China.   \n",
       "\n",
       "                                                                                                  wiki  \\\n",
       "0  Petronella (\"Petra\") Grietje van Staveren (born 2 June 1966) is a former breaststroke swimmer fr...   \n",
       "1  Petronella (\"Petra\") Grietje van Staveren (born 2 June 1966) is a former breaststroke swimmer fr...   \n",
       "2  Petronella (\"Petra\") Grietje van Staveren (born 2 June 1966) is a former breaststroke swimmer fr...   \n",
       "3  Petronella (\"Petra\") Grietje van Staveren (born 2 June 1966) is a former breaststroke swimmer fr...   \n",
       "4  Petronella (\"Petra\") Grietje van Staveren (born 2 June 1966) is a former breaststroke swimmer fr...   \n",
       "\n",
       "                                                                                             sentences  \\\n",
       "0  [She also won a bronze at the 1986 world championships and a European silver in 1983 in the 4×10...   \n",
       "1  [Petronella (\"Petra\") Grietje van Staveren (born 2 June 1966) is a former breaststroke swimmer f...   \n",
       "2  [She also won a bronze at the 1986 world championships and a European silver in 1983 in the 4×10...   \n",
       "3  [She also won a bronze at the 1986 world championships and a European silver in 1983 in the 4×10...   \n",
       "4  [She also won a bronze at the 1986 world championships and a European silver in 1983 in the 4×10...   \n",
       "\n",
       "                                            question      label  \n",
       "0  What did Petra van Staveren win a gold medal for?  INCORRECT  \n",
       "1  What did Petra van Staveren win a gold medal for?  INCORRECT  \n",
       "2  What did Petra van Staveren win a gold medal for?  INCORRECT  \n",
       "3  What did Petra van Staveren win a gold medal for?  INCORRECT  \n",
       "4  What did Petra van Staveren win a gold medal for?  INCORRECT  "
      ]
     },
     "execution_count": 267,
     "metadata": {},
     "output_type": "execute_result"
    },
    {
     "name": "stdout",
     "output_type": "stream",
     "text": [
      "time: 108 ms (started: 2025-05-15 12:30:31 +02:00)\n"
     ]
    }
   ],
   "source": [
    "if DATASET == 1:\n",
    "    df = pd.read_parquet(\"hf://datasets/potsawee/wiki_bio_gpt3_hallucination/data/evaluation-00000-of-00001-e91191b8ff41afbe.parquet\")\n",
    "    train_data = pd.DataFrame({\n",
    "    'sentence': df['gpt3_sentences'].explode(),\n",
    "    'annotation': df['annotation'].explode(),\n",
    "    'original_text': df['wiki_bio_text'].repeat(df['gpt3_sentences'].str.len())\n",
    "    }).reset_index(drop=True)\n",
    "    # dataset.annotation = dataset.annotation.map({'major_inaccurate': 0, 'minor_inaccurate': 1, 'accurate': 2})\n",
    "elif DATASET == 2:\n",
    "    dataset = load_dataset(\"fever\", \"v1.0\")\n",
    "    zip_file_path = './wiki-pages/wiki-pages.zip'\n",
    "    wiki_dict = load_wiki_dict_from_zip(zip_file_path)\n",
    "    \n",
    "    dataset_with_wiki = add_wikipedia_text(dataset['train'], wiki_dict)\n",
    "    filtered_dataset = dataset_with_wiki.filter(filter_missing_wiki)\n",
    "    train_data = pd.DataFrame(filtered_dataset)\n",
    "elif DATASET == 3:\n",
    "    data = read_json(\"./wiki-pages/entries_with_facts_and_retrieval.json\")\n",
    "    train_data = build_df(data)\n",
    "train_data.head(5)"
   ]
  },
  {
   "cell_type": "code",
   "execution_count": 251,
   "id": "32fa7842",
   "metadata": {},
   "outputs": [
    {
     "data": {
      "text/plain": [
       "label\n",
       "CORRECT      108\n",
       "INCORRECT     98\n",
       "Name: count, dtype: int64"
      ]
     },
     "execution_count": 251,
     "metadata": {},
     "output_type": "execute_result"
    },
    {
     "name": "stdout",
     "output_type": "stream",
     "text": [
      "time: 84.3 ms (started: 2025-05-15 11:59:42 +02:00)\n"
     ]
    }
   ],
   "source": [
    "train_data.label.value_counts()"
   ]
  },
  {
   "cell_type": "markdown",
   "id": "e7335fb7",
   "metadata": {},
   "source": [
    "# LLM classification"
   ]
  },
  {
   "cell_type": "code",
   "execution_count": 8,
   "id": "f695bae7",
   "metadata": {},
   "outputs": [
    {
     "name": "stdout",
     "output_type": "stream",
     "text": [
      "time: 16.3 s (started: 2025-05-10 17:34:41 +02:00)\n"
     ]
    }
   ],
   "source": [
    "sasanka_token_proxi = getpass.getpass(\"Enter token for LLM proxi:\")"
   ]
  },
  {
   "cell_type": "code",
   "execution_count": null,
   "id": "bbeada2b",
   "metadata": {},
   "outputs": [
    {
     "name": "stdout",
     "output_type": "stream",
     "text": [
      "time: 206 ms (started: 2025-05-15 13:04:57 +02:00)\n"
     ]
    }
   ],
   "source": [
    "async_client = AsyncOpenAI(api_key=sasanka_token_proxi, base_url=\"https://llm-proxy.seznam.net/v1\")"
   ]
  },
  {
   "cell_type": "code",
   "execution_count": null,
   "id": "e3f68d79",
   "metadata": {},
   "outputs": [],
   "source": [
    "async def async_response(prompt):\n",
    "    chat_completion = await async_client.chat.completions.create(\n",
    "        model=\"llama3.1-sellma-70b-241114\",\n",
    "        temperature=0,\n",
    "        messages=[{\"role\": \"user\", \"content\": prompt}]\n",
    "        )\n",
    "    \n",
    "    return chat_completion.choices[0].message.content"
   ]
  },
  {
   "cell_type": "code",
   "execution_count": null,
   "id": "6aedaf83",
   "metadata": {},
   "outputs": [
    {
     "name": "stdout",
     "output_type": "stream",
     "text": [
      "time: 51.8 ms (started: 2025-05-10 23:47:10 +02:00)\n"
     ]
    }
   ],
   "source": [
    "async def classify_hallucination(prompt):\n",
    "    response = await async_response(prompt)\n",
    "    match = re.findall(r'\\b(SUPPORTS|REFUTES|NOT ENOUGH INFO)\\b', response)\n",
    "    classification = match[-1] if match else response\n",
    "    \n",
    "    return classification"
   ]
  },
  {
   "cell_type": "markdown",
   "id": "eef8b56d",
   "metadata": {},
   "source": [
    "## LLM as a judge "
   ]
  },
  {
   "cell_type": "code",
   "execution_count": null,
   "id": "c47230ce",
   "metadata": {},
   "outputs": [
    {
     "name": "stdout",
     "output_type": "stream",
     "text": [
      "time: 72.8 ms (started: 2025-05-15 13:06:29 +02:00)\n"
     ]
    }
   ],
   "source": [
    "prompt_classify = lambda fact, wiki, question: f'''\n",
    "You are a fact-checking assistant. You are given:\n",
    "\n",
    "- A factual question.\n",
    "- A generated answer from a language model.\n",
    "- A relevant Wikipedia article.\n",
    "\n",
    "Your task is:\n",
    "1. Read the claim and the Wikipedia information carefully.  \n",
    "2. Decide which single label fits best:\n",
    "   - **SUPPORTS** - all essential aspects of the claim are directly verified by the information.  \n",
    "   - **REFUTES** - the information clearly contradicts the claim.  \n",
    "   - **NOT ENOUGH INFO** - the information is insufficient to determine support or refutation.\n",
    "3. **Output only one word** — one of the three labels above.  \n",
    "   Do **not** explain your reasoning, do **not** output anything else.\n",
    "\n",
    "Return your result in JSON format with \"label\" and \"reasons\"\n",
    "### User\n",
    "Question:\n",
    "{question}\n",
    "\n",
    "Generated Answer:\n",
    "{fact}\n",
    "\n",
    "Wikipedia Information:\n",
    "{wiki}\n",
    "'''"
   ]
  },
  {
   "cell_type": "code",
   "execution_count": 282,
   "id": "7ce358e1",
   "metadata": {},
   "outputs": [
    {
     "name": "stdout",
     "output_type": "stream",
     "text": [
      "label\n",
      "CORRECT      53\n",
      "INCORRECT    47\n",
      "Name: count, dtype: int64\n",
      "time: 82.6 ms (started: 2025-05-15 13:02:53 +02:00)\n"
     ]
    }
   ],
   "source": [
    "sample = train_data.sample(100)\n",
    "print(sample.label.value_counts())\n",
    "\n",
    "if DATASET == 2: \n",
    "    value_to_set = sample.query('label == \"SUPPORTS\"')['wiki_info'].iloc[0]\n",
    "    sample.loc[sample['label'] == \"NOT ENOUGH INFO\", 'wiki_info'] = value_to_set"
   ]
  },
  {
   "cell_type": "code",
   "execution_count": null,
   "id": "7e1d5952",
   "metadata": {},
   "outputs": [],
   "source": [
    "for i, fow in sample.iterrows():\n",
    "    claim = fow['fact']\n",
    "    wiki = fow['wiki']\n",
    "    label = fow['label']\n",
    "    question = fow['question']\n",
    "    \n",
    "    prompt = prompt_classify(claim, wiki,question)\n",
    "    classification = await async_response(prompt)\n",
    "    \n",
    "    print(f\"Classification: {classification}, Label: {label}\")\n",
    "    sample.loc[i, 'proba'] = classification"
   ]
  },
  {
   "cell_type": "code",
   "execution_count": 279,
   "id": "0dd53c42",
   "metadata": {},
   "outputs": [
    {
     "data": {
      "image/png": "[encoded data removed]",
      "text/plain": [
       "<Figure size 600x500 with 2 Axes>"
      ]
     },
     "metadata": {},
     "output_type": "display_data"
    },
    {
     "name": "stdout",
     "output_type": "stream",
     "text": [
      "time: 261 ms (started: 2025-05-15 12:55:03 +02:00)\n"
     ]
    }
   ],
   "source": [
    "plot_confusion_matrix(train_data['label'], train_data['pred'])"
   ]
  },
  {
   "cell_type": "markdown",
   "id": "5befbbf2",
   "metadata": {},
   "source": [
    "## Evidence-First Decoding"
   ]
  },
  {
   "cell_type": "code",
   "execution_count": 89,
   "id": "d05f3e19",
   "metadata": {},
   "outputs": [
    {
     "name": "stdout",
     "output_type": "stream",
     "text": [
      "time: 43.4 ms (started: 2025-05-10 21:58:16 +02:00)\n"
     ]
    }
   ],
   "source": [
    "prompt_useful_sentences = lambda wiki: f'''\n",
    "From the article below, extract 1-3 sentences that are most likely to be useful for verifying factual claims.\n",
    "\n",
    "[ARTICLE STARTS]\n",
    "{wiki}\n",
    "[ARTICLE ENDS]\n",
    "'''\n",
    "prompt_evaluate = lambda claim, sentences: f'''\n",
    "Now evaluate the following claim using sentences:\n",
    "Claim: {claim}\n",
    "Evidence:\n",
    "{sentences}\n",
    "return only the answer in the format: \"SUPPORTS / REFUTES / NOT ENOUGH INFO\"\n",
    "'''"
   ]
  },
  {
   "cell_type": "code",
   "execution_count": null,
   "id": "957852c5",
   "metadata": {},
   "outputs": [
    {
     "data": {
      "text/plain": [
       "('NOT ENOUGH INFO',\n",
       " 48632    REFUTES\n",
       " Name: label, dtype: object)"
      ]
     },
     "execution_count": 100,
     "metadata": {},
     "output_type": "execute_result"
    },
    {
     "name": "stdout",
     "output_type": "stream",
     "text": [
      "time: 1.78 s (started: 2025-05-10 22:06:31 +02:00)\n"
     ]
    }
   ],
   "source": [
    "sentences = await async_response(prompt_useful_sentences(sample.query(\"id == 202110\")['wiki_info']))\n",
    "await classify_hallucination(prompt_evaluate(sample.query(\"id == 202110\")['claim'], sentences)), sample.query(\"id == 202110\")['label'][0]"
   ]
  },
  {
   "cell_type": "markdown",
   "id": "6fc1637e",
   "metadata": {},
   "source": [
    "# Dense Retrieval + Re-ranking"
   ]
  },
  {
   "cell_type": "markdown",
   "id": "93c05c17",
   "metadata": {},
   "source": [
    "## Dense Retrieval"
   ]
  },
  {
   "cell_type": "code",
   "execution_count": null,
   "id": "9e0fd781",
   "metadata": {},
   "outputs": [
    {
     "name": "stdout",
     "output_type": "stream",
     "text": [
      "time: 2.74 s (started: 2025-05-11 15:41:26 +02:00)\n"
     ]
    }
   ],
   "source": [
    "from sentence_transformers import SentenceTransformer, util\n",
    "import torch\n",
    "\n",
    "dense_model = SentenceTransformer(\"distiluse-base-multilingual-cased-v1\")\n",
    "\n",
    "def dense_retrieve(claim, wiki_text, top_k=20):\n",
    "    sentences = wiki_text.split('. ')\n",
    "    claim_embedding = dense_model.encode(claim, convert_to_tensor=True)\n",
    "    sentence_embeddings = dense_model.encode(sentences, convert_to_tensor=True)\n",
    "    scores = util.cos_sim(claim_embedding, sentence_embeddings)[0]\n",
    "    top_results = torch.topk(scores, k=top_k)\n",
    "    return [sentences[i] for i in top_results[1]]\n"
   ]
  },
  {
   "cell_type": "markdown",
   "id": "900c2c09",
   "metadata": {},
   "source": [
    "## Cross-Encoder Re-ranker"
   ]
  },
  {
   "cell_type": "code",
   "execution_count": 207,
   "id": "3f2aa744",
   "metadata": {},
   "outputs": [
    {
     "data": {
      "application/vnd.jupyter.widget-view+json": {
       "model_id": "46f39c944ac3445dafe79546def1602c",
       "version_major": 2,
       "version_minor": 0
      },
      "text/plain": [
       "config.json:   0%|          | 0.00/794 [00:00<?, ?B/s]"
      ]
     },
     "metadata": {},
     "output_type": "display_data"
    },
    {
     "data": {
      "application/vnd.jupyter.widget-view+json": {
       "model_id": "37262f9749bf4ebe8515f1af78d8dc85",
       "version_major": 2,
       "version_minor": 0
      },
      "text/plain": [
       "model.safetensors:   0%|          | 0.00/90.9M [00:00<?, ?B/s]"
      ]
     },
     "metadata": {},
     "output_type": "display_data"
    },
    {
     "data": {
      "application/vnd.jupyter.widget-view+json": {
       "model_id": "e6318503d63540fdae0ed60ef5b98416",
       "version_major": 2,
       "version_minor": 0
      },
      "text/plain": [
       "tokenizer_config.json:   0%|          | 0.00/1.33k [00:00<?, ?B/s]"
      ]
     },
     "metadata": {},
     "output_type": "display_data"
    },
    {
     "data": {
      "application/vnd.jupyter.widget-view+json": {
       "model_id": "0429d15d2a76444b9812bf68bb56a4e5",
       "version_major": 2,
       "version_minor": 0
      },
      "text/plain": [
       "vocab.txt:   0%|          | 0.00/232k [00:00<?, ?B/s]"
      ]
     },
     "metadata": {},
     "output_type": "display_data"
    },
    {
     "data": {
      "application/vnd.jupyter.widget-view+json": {
       "model_id": "0920cc01d94a493c8346d685c946d1c7",
       "version_major": 2,
       "version_minor": 0
      },
      "text/plain": [
       "tokenizer.json:   0%|          | 0.00/711k [00:00<?, ?B/s]"
      ]
     },
     "metadata": {},
     "output_type": "display_data"
    },
    {
     "data": {
      "application/vnd.jupyter.widget-view+json": {
       "model_id": "57b6226cfae94595b11683cc3384683f",
       "version_major": 2,
       "version_minor": 0
      },
      "text/plain": [
       "special_tokens_map.json:   0%|          | 0.00/132 [00:00<?, ?B/s]"
      ]
     },
     "metadata": {},
     "output_type": "display_data"
    },
    {
     "name": "stdout",
     "output_type": "stream",
     "text": [
      "\n",
      "time: 7.02 s (started: 2025-05-11 15:41:10 +02:00)\n"
     ]
    }
   ],
   "source": [
    "from transformers import AutoTokenizer, AutoModelForSequenceClassification\n",
    "\n",
    "cross_encoder = AutoModelForSequenceClassification.from_pretrained(\"cross-encoder/ms-marco-MiniLM-L-6-v2\")\n",
    "tokenizer = AutoTokenizer.from_pretrained(\"cross-encoder/ms-marco-MiniLM-L-6-v2\")\n",
    "\n",
    "def rerank(claim, candidate_sentences, top_k=5):\n",
    "    inputs = tokenizer([f\"{claim} [SEP] {sent}\" for sent in candidate_sentences],\n",
    "                       return_tensors='pt', padding=True, truncation=True)\n",
    "    with torch.no_grad():\n",
    "        logits = cross_encoder(**inputs).logits\n",
    "    scores = logits.squeeze()\n",
    "    top_indices = torch.topk(scores, k=top_k).indices\n",
    "    return [candidate_sentences[i] for i in top_indices]\n"
   ]
  },
  {
   "cell_type": "code",
   "execution_count": null,
   "id": "7ed86655",
   "metadata": {},
   "outputs": [],
   "source": [
    "# archive prompts \n",
    "\n",
    "def prompt_judge(claim, wiki, pred): return f\"\"\"\n",
    "### System\n",
    "You are an impartial fact-checking judge.  \n",
    "You receive:\n",
    "• A natural-language **claim**.  \n",
    "• A chunk of **Wikipedia information** that may contain supporting or contradicting evidence.  \n",
    "• A **predicted label** chosen from SUPPORTS, REFUTES, NOT ENOUGH INFO .\n",
    "\n",
    "Your task:\n",
    "\n",
    "1. Read the claim and the Wikipedia information carefully.  \n",
    "2. Determine the *correct* label:\n",
    "   • **SUPPORTS** - all essential aspects of the claim are directly verified by the information.  \n",
    "   • **REFUTES**  - the information clearly contradicts the claim.  \n",
    "   • **NOT ENOUGH INFO** - the information is insufficient to decide either way.  \n",
    "3. Compare the correct label to the *predicted* label.  \n",
    "4. **Output only one word**:  \n",
    "   • If the predicted label is correct, output that label unchanged.  \n",
    "   • Otherwise, output the correct label you determined.  \n",
    "Do **not** explain your reasoning, do **not** output anything else.\n",
    "\n",
    "### User\n",
    "Claim:\n",
    "{claim}\n",
    "\n",
    "Wikipedia_information:\n",
    "{wiki}\n",
    "\n",
    "Predicted_label:\n",
    "{pred}\n",
    "\n",
    "### Assistant\n",
    "\"\"\"\n",
    "\n",
    "\n",
    "def prompt_proba(fact, wiki, question): return f'''\n",
    "You are a fact-checking assistant. You are given:\n",
    "\n",
    "• A factual question.  \n",
    "• A generated answer from a language model.  \n",
    "• A relevant Wikipedia article.  \n",
    "\n",
    "Your tasks:\n",
    "\n",
    "1. Compare the generated answer with the Wikipedia information.   \n",
    "2. Estimate **hallucination_probability** ∈ [0, 1]:  \n",
    "   - Output a value near **0** when the answer is well supported.  \n",
    "   - Output a value near **1** when it is clearly refuted.  \n",
    "   - Output an intermediate value when evidence is unclear or partial.  \n",
    "4. Return **exactly one float between 0 and 1**\n",
    "\n",
    "Question:\n",
    "{question}\n",
    "\n",
    "Generated Answer:\n",
    "{fact}\n",
    "\n",
    "Wikipedia Information:\n",
    "{wiki}\n",
    "\n",
    "Probability of hallucination:\n",
    "'''"
   ]
  },
  {
   "cell_type": "code",
   "execution_count": 223,
   "id": "1acc68d2",
   "metadata": {},
   "outputs": [
    {
     "name": "stdout",
     "output_type": "stream",
     "text": [
      "time: 1min 16s (started: 2025-05-14 16:31:25 +02:00)\n"
     ]
    }
   ],
   "source": [
    "for i, fow in sample.iterrows():\n",
    "    claim = fow['claim']\n",
    "    wiki = fow['wiki_info']\n",
    "    label = fow['label']\n",
    "    pred = fow['pred']\n",
    "    \n",
    "    prompt = prompt_judge(claim, wiki, pred)\n",
    "    classification = await classify_hallucination(prompt)\n",
    "    \n",
    "    # print(f\"Classification: {classification}, Label: {label}\")\n",
    "    sample.loc[i, 'pred_judge'] = classification"
   ]
  },
  {
   "cell_type": "code",
   "execution_count": 224,
   "id": "788dd1c4",
   "metadata": {},
   "outputs": [
    {
     "name": "stdout",
     "output_type": "stream",
     "text": [
      "0.9\n"
     ]
    },
    {
     "data": {
      "image/png": "[encoded data removed]",
      "text/plain": [
       "<Figure size 640x480 with 2 Axes>"
      ]
     },
     "metadata": {},
     "output_type": "display_data"
    },
    {
     "name": "stdout",
     "output_type": "stream",
     "text": [
      "time: 233 ms (started: 2025-05-14 16:33:03 +02:00)\n"
     ]
    }
   ],
   "source": [
    "print((sample['pred_judge'] == sample['label']).mean())\n",
    "plot_confusion_matrix(sample['label'], sample['pred_judge'], labels=['SUPPORTS', 'REFUTES', 'NOT ENOUGH INFO'])"
   ]
  }
 ],
 "metadata": {
  "kernelspec": {
   "display_name": ".venv",
   "language": "python",
   "name": "python3"
  },
  "language_info": {
   "codemirror_mode": {
    "name": "ipython",
    "version": 3
   },
   "file_extension": ".py",
   "mimetype": "text/x-python",
   "name": "python",
   "nbconvert_exporter": "python",
   "pygments_lexer": "ipython3",
   "version": "3.12.5"
  }
 },
 "nbformat": 4,
 "nbformat_minor": 5
}
